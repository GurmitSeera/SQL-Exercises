{
  "nbformat": 4,
  "nbformat_minor": 0,
  "metadata": {
    "colab": {
      "name": "Window_Functions.ipynb",
      "provenance": [],
      "authorship_tag": "ABX9TyNCWa+Y4VaP0FNWVnVjRKtE",
      "include_colab_link": true
    },
    "kernelspec": {
      "name": "python3",
      "display_name": "Python 3"
    },
    "language_info": {
      "name": "python"
    }
  },
  "cells": [
    {
      "cell_type": "markdown",
      "metadata": {
        "id": "view-in-github",
        "colab_type": "text"
      },
      "source": [
        "<a href=\"https://colab.research.google.com/github/GurmitSeera/Test_repo/blob/main/Window_Functions.ipynb\" target=\"_parent\"><img src=\"https://colab.research.google.com/assets/colab-badge.svg\" alt=\"Open In Colab\"/></a>"
      ]
    },
    {
      "cell_type": "markdown",
      "metadata": {
        "id": "iMTZR5VOafS1"
      },
      "source": [
        "# Introduction to Window Function\n",
        "\n",
        "Window functions applies aggregate and ranking functions over a particular window (set of rows). OVER clause is used with window functions to define that window. OVER clause does two things :\n",
        "\n",
        "\n",
        "\n",
        "1.   Partitions rows into form set of rows. (PARTITION BY clause is used)\n",
        "2.   Orders rows within those partitions into a particular order. (ORDER BY clause is used)\n",
        "\n"
      ]
    },
    {
      "cell_type": "markdown",
      "metadata": {
        "id": "7B9JWYkcbRij"
      },
      "source": [
        "# Types of Window functions\n",
        "\n",
        "\n",
        "1.   Aggregate Window Functions\n",
        "2.   Ranking Window Functions\n",
        "\n",
        "1.   Value Window Functions\n",
        "\n",
        "\n",
        "\n"
      ]
    },
    {
      "cell_type": "code",
      "metadata": {
        "id": "RuiQp3miIGZT"
      },
      "source": [
        "# Install postgresql server\n",
        "!sudo apt-get -y -qq update\n",
        "!sudo apt-get -y -qq install postgresql\n",
        "!sudo service postgresql start\n",
        "\n",
        "# Setup a password `postgres` for username `postgres`\n",
        "!sudo -u postgres psql -U postgres -c \"ALTER USER postgres PASSWORD 'postgres';\"\n",
        "\n",
        "# Setup a database with name `tfio_demo` to be used\n",
        "!sudo -u postgres psql -U postgres -c 'DROP DATABASE IF EXISTS testdb;'\n",
        "!sudo -u postgres psql -U postgres -c 'CREATE DATABASE testdb;'\n",
        "!pip install psycopg2"
      ],
      "execution_count": null,
      "outputs": []
    },
    {
      "cell_type": "code",
      "metadata": {
        "id": "pAkFlQR6abn2"
      },
      "source": [
        "import pandas as pd\n",
        "import psycopg2"
      ],
      "execution_count": 41,
      "outputs": []
    },
    {
      "cell_type": "code",
      "metadata": {
        "id": "7ld3x8Z_achK"
      },
      "source": [
        "connection_string = {'host':'localhost',\n",
        "                     'dbname':'testdb',\n",
        "                     'user':'postgres',\n",
        "                     'password':'postgres',\n",
        "                     'port':5432}\n",
        "connection = psycopg2.connect(**connection_string)"
      ],
      "execution_count": 42,
      "outputs": []
    },
    {
      "cell_type": "markdown",
      "metadata": {
        "id": "rqUqZBbmbpG-"
      },
      "source": [
        "# Aggregate Window Functions\n",
        "\n",
        "\n",
        "1.   Sum()\n",
        "\n",
        "1.   Max()\n",
        "2.   Min()\n",
        "\n",
        "1.   Avg()\n",
        "2.   Count()\n",
        "\n",
        "\n",
        "\n"
      ]
    },
    {
      "cell_type": "code",
      "metadata": {
        "id": "E_mrCEhAb9zp"
      },
      "source": [
        "sql_query = \"\"\"\n",
        "Create table purchase (\n",
        "  customer_id INT Primary Key,\n",
        "  customer_name varchar(100),\n",
        "  city varchar(100),\n",
        "  amount double precision,\n",
        "  purchasing_date date\n",
        ")\n",
        "\"\"\"\n",
        "with connection.cursor() as cur:\n",
        "  cur.execute(sql_query)"
      ],
      "execution_count": 43,
      "outputs": []
    },
    {
      "cell_type": "code",
      "metadata": {
        "id": "BkSm-Au6joNu"
      },
      "source": [
        "insert_query = \"\"\" insert into purchase(customer_id, customer_name, city, amount, purchasing_date)\n",
        "values (1,'Manish','Sonipat',1000,'2021/01/05'),\n",
        "       (2,'Raj','Noida',2500,'2021/01/08'),\n",
        "       (3,'Shivani','Gurugram',1000,'2021/01/08'),\n",
        "       (4,'Rohan','Gurugram',1200,'2021/01/08'),\n",
        "       (5,'Sonu','Delhi',2800,'2021/01/09'),\n",
        "       (6,'Manoj','Hisar',2500,'2021/01/09'),\n",
        "       (7,'Deepak','Hisar',2400,'2021/01/09'),\n",
        "       (8,'Rohit','Gurugram',1000,'2021/01/10'),\n",
        "       (9,'Rohan','Gurugram',1200,'2021/01/10'),\n",
        "       (10,'Raj','Noida',3500,'2021/01/11'),\n",
        "       (11,'Yogesh','Hisar',3000,'2021/01/11'),\n",
        "       (12,'Raj','Noida',3000,'2021/01/12'),\n",
        "       (13,'Manish','Sonipat',1500,'2021/01/12'),\n",
        "       (14,'Shivani','Gurugram',2000,'2021/01/13'),\n",
        "       (15,'Rohan','Gurugram',2500,'2021/01/13'),\n",
        "       (16,'Deepak','Hisar',2000,'2021/01/13'),\n",
        "       (17,'Sonu','Delhi',1500,'2021/01/14'),\n",
        "       (18,'Raj','Noida',2000,'2021/01/14'),\n",
        "       (19,'Yogesh','Hisar',3800,'2021/01/14')\n",
        "\"\"\"\n",
        "with connection.cursor() as cur:\n",
        "  cur.execute(insert_query)"
      ],
      "execution_count": 44,
      "outputs": []
    },
    {
      "cell_type": "code",
      "metadata": {
        "id": "uFQ9LBKhpjDk"
      },
      "source": [
        "test_query = \"\"\" Select * from purchase;\n",
        "\"\"\"\n",
        "pd.read_sql_query(test_query,connection)"
      ],
      "execution_count": null,
      "outputs": []
    },
    {
      "cell_type": "markdown",
      "metadata": {
        "id": "r1yDJYEUq_dj"
      },
      "source": [
        "**# Problem 1. Sum()**\n",
        "\n",
        "Calculate total amount spent everyday and date should be in descending order. Also display every customer_id, name and city."
      ]
    },
    {
      "cell_type": "code",
      "metadata": {
        "id": "axIPZt1Cq7sr",
        "outputId": "b5fdc844-3a58-4081-d246-e7f96e2d62d9",
        "colab": {
          "base_uri": "https://localhost:8080/",
          "height": 638
        }
      },
      "source": [
        "sql_query1 = \"\"\" Select customer_id, customer_name, city, purchasing_date,\n",
        "                  sum(amount) over (partition by purchasing_date order by purchasing_date desc) as total_amount\n",
        "                  from purchase;\n",
        "\"\"\"\n",
        "pd.read_sql_query(sql_query1,connection)"
      ],
      "execution_count": 46,
      "outputs": [
        {
          "output_type": "execute_result",
          "data": {
            "text/html": [
              "<div>\n",
              "<style scoped>\n",
              "    .dataframe tbody tr th:only-of-type {\n",
              "        vertical-align: middle;\n",
              "    }\n",
              "\n",
              "    .dataframe tbody tr th {\n",
              "        vertical-align: top;\n",
              "    }\n",
              "\n",
              "    .dataframe thead th {\n",
              "        text-align: right;\n",
              "    }\n",
              "</style>\n",
              "<table border=\"1\" class=\"dataframe\">\n",
              "  <thead>\n",
              "    <tr style=\"text-align: right;\">\n",
              "      <th></th>\n",
              "      <th>customer_id</th>\n",
              "      <th>customer_name</th>\n",
              "      <th>city</th>\n",
              "      <th>purchasing_date</th>\n",
              "      <th>total_amount</th>\n",
              "    </tr>\n",
              "  </thead>\n",
              "  <tbody>\n",
              "    <tr>\n",
              "      <th>0</th>\n",
              "      <td>19</td>\n",
              "      <td>Yogesh</td>\n",
              "      <td>Hisar</td>\n",
              "      <td>2021-01-14</td>\n",
              "      <td>7300.0</td>\n",
              "    </tr>\n",
              "    <tr>\n",
              "      <th>1</th>\n",
              "      <td>18</td>\n",
              "      <td>Raj</td>\n",
              "      <td>Noida</td>\n",
              "      <td>2021-01-14</td>\n",
              "      <td>7300.0</td>\n",
              "    </tr>\n",
              "    <tr>\n",
              "      <th>2</th>\n",
              "      <td>17</td>\n",
              "      <td>Sonu</td>\n",
              "      <td>Delhi</td>\n",
              "      <td>2021-01-14</td>\n",
              "      <td>7300.0</td>\n",
              "    </tr>\n",
              "    <tr>\n",
              "      <th>3</th>\n",
              "      <td>14</td>\n",
              "      <td>Shivani</td>\n",
              "      <td>Gurugram</td>\n",
              "      <td>2021-01-13</td>\n",
              "      <td>6500.0</td>\n",
              "    </tr>\n",
              "    <tr>\n",
              "      <th>4</th>\n",
              "      <td>16</td>\n",
              "      <td>Deepak</td>\n",
              "      <td>Hisar</td>\n",
              "      <td>2021-01-13</td>\n",
              "      <td>6500.0</td>\n",
              "    </tr>\n",
              "    <tr>\n",
              "      <th>5</th>\n",
              "      <td>15</td>\n",
              "      <td>Rohan</td>\n",
              "      <td>Gurugram</td>\n",
              "      <td>2021-01-13</td>\n",
              "      <td>6500.0</td>\n",
              "    </tr>\n",
              "    <tr>\n",
              "      <th>6</th>\n",
              "      <td>13</td>\n",
              "      <td>Manish</td>\n",
              "      <td>Sonipat</td>\n",
              "      <td>2021-01-12</td>\n",
              "      <td>4500.0</td>\n",
              "    </tr>\n",
              "    <tr>\n",
              "      <th>7</th>\n",
              "      <td>12</td>\n",
              "      <td>Raj</td>\n",
              "      <td>Noida</td>\n",
              "      <td>2021-01-12</td>\n",
              "      <td>4500.0</td>\n",
              "    </tr>\n",
              "    <tr>\n",
              "      <th>8</th>\n",
              "      <td>10</td>\n",
              "      <td>Raj</td>\n",
              "      <td>Noida</td>\n",
              "      <td>2021-01-11</td>\n",
              "      <td>6500.0</td>\n",
              "    </tr>\n",
              "    <tr>\n",
              "      <th>9</th>\n",
              "      <td>11</td>\n",
              "      <td>Yogesh</td>\n",
              "      <td>Hisar</td>\n",
              "      <td>2021-01-11</td>\n",
              "      <td>6500.0</td>\n",
              "    </tr>\n",
              "    <tr>\n",
              "      <th>10</th>\n",
              "      <td>9</td>\n",
              "      <td>Rohan</td>\n",
              "      <td>Gurugram</td>\n",
              "      <td>2021-01-10</td>\n",
              "      <td>2200.0</td>\n",
              "    </tr>\n",
              "    <tr>\n",
              "      <th>11</th>\n",
              "      <td>8</td>\n",
              "      <td>Rohit</td>\n",
              "      <td>Gurugram</td>\n",
              "      <td>2021-01-10</td>\n",
              "      <td>2200.0</td>\n",
              "    </tr>\n",
              "    <tr>\n",
              "      <th>12</th>\n",
              "      <td>5</td>\n",
              "      <td>Sonu</td>\n",
              "      <td>Delhi</td>\n",
              "      <td>2021-01-09</td>\n",
              "      <td>7700.0</td>\n",
              "    </tr>\n",
              "    <tr>\n",
              "      <th>13</th>\n",
              "      <td>7</td>\n",
              "      <td>Deepak</td>\n",
              "      <td>Hisar</td>\n",
              "      <td>2021-01-09</td>\n",
              "      <td>7700.0</td>\n",
              "    </tr>\n",
              "    <tr>\n",
              "      <th>14</th>\n",
              "      <td>6</td>\n",
              "      <td>Manoj</td>\n",
              "      <td>Hisar</td>\n",
              "      <td>2021-01-09</td>\n",
              "      <td>7700.0</td>\n",
              "    </tr>\n",
              "    <tr>\n",
              "      <th>15</th>\n",
              "      <td>2</td>\n",
              "      <td>Raj</td>\n",
              "      <td>Noida</td>\n",
              "      <td>2021-01-08</td>\n",
              "      <td>4700.0</td>\n",
              "    </tr>\n",
              "    <tr>\n",
              "      <th>16</th>\n",
              "      <td>4</td>\n",
              "      <td>Rohan</td>\n",
              "      <td>Gurugram</td>\n",
              "      <td>2021-01-08</td>\n",
              "      <td>4700.0</td>\n",
              "    </tr>\n",
              "    <tr>\n",
              "      <th>17</th>\n",
              "      <td>3</td>\n",
              "      <td>Shivani</td>\n",
              "      <td>Gurugram</td>\n",
              "      <td>2021-01-08</td>\n",
              "      <td>4700.0</td>\n",
              "    </tr>\n",
              "    <tr>\n",
              "      <th>18</th>\n",
              "      <td>1</td>\n",
              "      <td>Manish</td>\n",
              "      <td>Sonipat</td>\n",
              "      <td>2021-01-05</td>\n",
              "      <td>1000.0</td>\n",
              "    </tr>\n",
              "  </tbody>\n",
              "</table>\n",
              "</div>"
            ],
            "text/plain": [
              "    customer_id customer_name      city purchasing_date  total_amount\n",
              "0            19        Yogesh     Hisar      2021-01-14        7300.0\n",
              "1            18           Raj     Noida      2021-01-14        7300.0\n",
              "2            17          Sonu     Delhi      2021-01-14        7300.0\n",
              "3            14       Shivani  Gurugram      2021-01-13        6500.0\n",
              "4            16        Deepak     Hisar      2021-01-13        6500.0\n",
              "5            15         Rohan  Gurugram      2021-01-13        6500.0\n",
              "6            13        Manish   Sonipat      2021-01-12        4500.0\n",
              "7            12           Raj     Noida      2021-01-12        4500.0\n",
              "8            10           Raj     Noida      2021-01-11        6500.0\n",
              "9            11        Yogesh     Hisar      2021-01-11        6500.0\n",
              "10            9         Rohan  Gurugram      2021-01-10        2200.0\n",
              "11            8         Rohit  Gurugram      2021-01-10        2200.0\n",
              "12            5          Sonu     Delhi      2021-01-09        7700.0\n",
              "13            7        Deepak     Hisar      2021-01-09        7700.0\n",
              "14            6         Manoj     Hisar      2021-01-09        7700.0\n",
              "15            2           Raj     Noida      2021-01-08        4700.0\n",
              "16            4         Rohan  Gurugram      2021-01-08        4700.0\n",
              "17            3       Shivani  Gurugram      2021-01-08        4700.0\n",
              "18            1        Manish   Sonipat      2021-01-05        1000.0"
            ]
          },
          "metadata": {
            "tags": []
          },
          "execution_count": 46
        }
      ]
    }
  ]
}