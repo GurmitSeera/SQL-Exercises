{
  "nbformat": 4,
  "nbformat_minor": 0,
  "metadata": {
    "colab": {
      "name": "Window_Functions.ipynb",
      "provenance": [],
      "authorship_tag": "ABX9TyNFUXf3QBvBBq8KobB1H7id",
      "include_colab_link": true
    },
    "kernelspec": {
      "name": "python3",
      "display_name": "Python 3"
    },
    "language_info": {
      "name": "python"
    }
  },
  "cells": [
    {
      "cell_type": "markdown",
      "metadata": {
        "id": "view-in-github",
        "colab_type": "text"
      },
      "source": [
        "<a href=\"https://colab.research.google.com/github/GurmitSeera/Test_repo/blob/main/Window_Functions.ipynb\" target=\"_parent\"><img src=\"https://colab.research.google.com/assets/colab-badge.svg\" alt=\"Open In Colab\"/></a>"
      ]
    },
    {
      "cell_type": "markdown",
      "metadata": {
        "id": "iMTZR5VOafS1"
      },
      "source": [
        "# Introduction to Window Function\n",
        "\n",
        "Window functions applies aggregate and ranking functions over a particular window (set of rows). OVER clause is used with window functions to define that window. OVER clause does two things :\n",
        "\n",
        "\n",
        "\n",
        "1.   Partitions rows into form set of rows. (PARTITION BY clause is used)\n",
        "2.   Orders rows within those partitions into a particular order. (ORDER BY clause is used)\n",
        "\n"
      ]
    },
    {
      "cell_type": "markdown",
      "metadata": {
        "id": "7B9JWYkcbRij"
      },
      "source": [
        "# Types of Window functions\n",
        "\n",
        "\n",
        "1.   Aggregate Window Functions\n",
        "2.   Ranking Window Functions\n",
        "\n",
        "1.   Value Window Functions\n",
        "\n",
        "\n",
        "\n"
      ]
    },
    {
      "cell_type": "code",
      "metadata": {
        "id": "RuiQp3miIGZT"
      },
      "source": [
        "# Install postgresql server\n",
        "!sudo apt-get -y -qq update\n",
        "!sudo apt-get -y -qq install postgresql\n",
        "!sudo service postgresql start\n",
        "\n",
        "# Setup a password `postgres` for username `postgres`\n",
        "!sudo -u postgres psql -U postgres -c \"ALTER USER postgres PASSWORD 'postgres';\"\n",
        "\n",
        "# Setup a database with name `tfio_demo` to be used\n",
        "!sudo -u postgres psql -U postgres -c 'DROP DATABASE IF EXISTS testdb;'\n",
        "!sudo -u postgres psql -U postgres -c 'CREATE DATABASE testdb;'\n",
        "!pip install psycopg2"
      ],
      "execution_count": null,
      "outputs": []
    },
    {
      "cell_type": "code",
      "metadata": {
        "id": "pAkFlQR6abn2"
      },
      "source": [
        "import pandas as pd\n",
        "import psycopg2"
      ],
      "execution_count": 5,
      "outputs": []
    },
    {
      "cell_type": "code",
      "metadata": {
        "id": "7ld3x8Z_achK"
      },
      "source": [
        "connection_string = {'host':'localhost',\n",
        "                     'dbname':'testdb',\n",
        "                     'user':'postgres',\n",
        "                     'password':'postgres',\n",
        "                     'port':5432}\n",
        "connection = psycopg2.connect(**connection_string)"
      ],
      "execution_count": 6,
      "outputs": []
    },
    {
      "cell_type": "markdown",
      "metadata": {
        "id": "rqUqZBbmbpG-"
      },
      "source": [
        "# Aggregate Window Functions\n",
        "\n",
        "\n",
        "1.   Sum()\n",
        "\n",
        "1.   Max()\n",
        "2.   Min()\n",
        "\n",
        "1.   Avg()\n",
        "2.   Count()\n",
        "\n",
        "\n",
        "\n"
      ]
    },
    {
      "cell_type": "code",
      "metadata": {
        "id": "E_mrCEhAb9zp"
      },
      "source": [
        "sql_query = \"\"\"\n",
        "Create table orders \n",
        "\"\"\""
      ],
      "execution_count": null,
      "outputs": []
    }
  ]
}