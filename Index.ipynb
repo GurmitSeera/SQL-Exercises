{
  "nbformat": 4,
  "nbformat_minor": 0,
  "metadata": {
    "colab": {
      "name": "Index.ipynb",
      "provenance": [],
      "collapsed_sections": [],
      "authorship_tag": "ABX9TyN4l1hgNEa5yuaqwJCdmFEw",
      "include_colab_link": true
    },
    "kernelspec": {
      "name": "python3",
      "display_name": "Python 3"
    },
    "language_info": {
      "name": "python"
    }
  },
  "cells": [
    {
      "cell_type": "markdown",
      "metadata": {
        "id": "view-in-github",
        "colab_type": "text"
      },
      "source": [
        "<a href=\"https://colab.research.google.com/github/GurmitSeera/SQL-Exercises/blob/main/Index.ipynb\" target=\"_parent\"><img src=\"https://colab.research.google.com/assets/colab-badge.svg\" alt=\"Open In Colab\"/></a>"
      ]
    },
    {
      "cell_type": "markdown",
      "metadata": {
        "id": "umEm86GaYO3_"
      },
      "source": [
        "# Index\n",
        "\n",
        "Index used to retrieve data from database more quickly than otherwise. Users cannot see the indexes, they are just used to speed up searches/queries.\n",
        "\n",
        "An index is a structure that holds the field the index is sorting and a pointer from each record to their corresponding record in the original table where the data is actually stored. Indexes are used in things like a contact list where the data may be physically stored in the order you add people’s contact information but it is easier to find people when listed out in alphabetical order.\n",
        "\n",
        "**Type of Indexes:-**\n",
        "1. Unique Index\n",
        "2. Clustered Index\n",
        "3. Non-clustered Index"
      ]
    },
    {
      "cell_type": "code",
      "metadata": {
        "id": "ABQ86RwzYEFd"
      },
      "source": [
        "# Install postgresql server\n",
        "!sudo apt-get -y -qq update\n",
        "!sudo apt-get -y -qq install postgresql\n",
        "!sudo service postgresql start\n",
        "\n",
        "# Setup a password `postgres` for username `postgres`\n",
        "!sudo -u postgres psql -U postgres -c \"ALTER USER postgres PASSWORD 'postgres';\"\n",
        "\n",
        "# Setup a database with name `tfio_demo` to be used\n",
        "!sudo -u postgres psql -U postgres -c 'DROP DATABASE IF EXISTS testdb;'\n",
        "!sudo -u postgres psql -U postgres -c 'CREATE DATABASE testdb;'\n",
        "!pip install psycopg2"
      ],
      "execution_count": null,
      "outputs": []
    },
    {
      "cell_type": "code",
      "metadata": {
        "id": "hluac54JZYdS"
      },
      "source": [
        "import pandas as pd\n",
        "import psycopg2"
      ],
      "execution_count": 27,
      "outputs": []
    },
    {
      "cell_type": "code",
      "metadata": {
        "id": "OQ8iqbE-ZZLx"
      },
      "source": [
        "connection_string = {'host':'localhost',\n",
        "                     'dbname':'testdb',\n",
        "                     'user':'postgres',\n",
        "                     'password':'postgres',\n",
        "                     'port':5432}\n",
        "connection = psycopg2.connect(**connection_string)"
      ],
      "execution_count": 28,
      "outputs": []
    },
    {
      "cell_type": "code",
      "metadata": {
        "id": "1hUf7yvha29l"
      },
      "source": [
        "query_create_table = \"\"\" Create table employee_info(employee_id varchar(10),\n",
        "employee_name varchar(64), city varchar(64)\n",
        ");\n",
        "\"\"\"\n",
        "with connection.cursor() as cur:\n",
        "  cur.execute(query_create_table)"
      ],
      "execution_count": 29,
      "outputs": []
    },
    {
      "cell_type": "code",
      "metadata": {
        "id": "yC9AWEyDbRc7"
      },
      "source": [
        "insert_query = \"\"\" Insert into employee_info (employee_id, employee_name, city)\n",
        "values\n",
        "('1', 'Ramesh', 'Delhi'),\n",
        "('2', 'Rahul', 'Gurugram'),\n",
        "('3', 'Sandeep', 'Kolkata'),\n",
        "('4', 'Deepanshu', 'Sonipat'),\n",
        "('5', 'Sapna', 'Noida'),\n",
        "('6', 'Varun', 'Noida'),\n",
        "('7', 'Himanshu', 'Bhopal'),\n",
        "('8', 'Ashwini', 'Jaipur'),\n",
        "('9', 'Vipul','Panipat')\n",
        ";\n",
        "\"\"\"\n",
        "with connection.cursor() as cur:\n",
        "  cur.execute(insert_query)"
      ],
      "execution_count": 30,
      "outputs": []
    },
    {
      "cell_type": "markdown",
      "metadata": {
        "id": "JqujARLHcP-C"
      },
      "source": [
        "# Unique Index\n",
        "Indexing does not allow key to have duplicate values if column is unique indexed. \n",
        "Unique Index is automatically applied when primary key is defined( on primary key)."
      ]
    },
    {
      "cell_type": "code",
      "metadata": {
        "id": "TqjjjZ3oa36e"
      },
      "source": [
        "sql_query = \"\"\" Create Index employee_name_asc on employee_info (employee_name asc);\n",
        "\"\"\"\n",
        "with connection.cursor() as cur:\n",
        "  cur.execute(sql_query)"
      ],
      "execution_count": 31,
      "outputs": []
    },
    {
      "cell_type": "code",
      "metadata": {
        "colab": {
          "base_uri": "https://localhost:8080/",
          "height": 80
        },
        "id": "7sSM6WLhczME",
        "outputId": "9a6482e6-58b9-4420-b9d0-1068e3b53481"
      },
      "source": [
        "sql_query = \"\"\" select * from  pg_indexes WHERE tablename = 'employee_info';\n",
        "\"\"\"\n",
        "pd.read_sql_query(sql_query,connection)"
      ],
      "execution_count": 32,
      "outputs": [
        {
          "output_type": "execute_result",
          "data": {
            "text/html": [
              "<div>\n",
              "<style scoped>\n",
              "    .dataframe tbody tr th:only-of-type {\n",
              "        vertical-align: middle;\n",
              "    }\n",
              "\n",
              "    .dataframe tbody tr th {\n",
              "        vertical-align: top;\n",
              "    }\n",
              "\n",
              "    .dataframe thead th {\n",
              "        text-align: right;\n",
              "    }\n",
              "</style>\n",
              "<table border=\"1\" class=\"dataframe\">\n",
              "  <thead>\n",
              "    <tr style=\"text-align: right;\">\n",
              "      <th></th>\n",
              "      <th>schemaname</th>\n",
              "      <th>tablename</th>\n",
              "      <th>indexname</th>\n",
              "      <th>tablespace</th>\n",
              "      <th>indexdef</th>\n",
              "    </tr>\n",
              "  </thead>\n",
              "  <tbody>\n",
              "    <tr>\n",
              "      <th>0</th>\n",
              "      <td>public</td>\n",
              "      <td>employee_info</td>\n",
              "      <td>employee_name_asc</td>\n",
              "      <td>None</td>\n",
              "      <td>CREATE INDEX employee_name_asc ON public.emplo...</td>\n",
              "    </tr>\n",
              "  </tbody>\n",
              "</table>\n",
              "</div>"
            ],
            "text/plain": [
              "  schemaname  ...                                           indexdef\n",
              "0     public  ...  CREATE INDEX employee_name_asc ON public.emplo...\n",
              "\n",
              "[1 rows x 5 columns]"
            ]
          },
          "metadata": {
            "tags": []
          },
          "execution_count": 32
        }
      ]
    },
    {
      "cell_type": "markdown",
      "metadata": {
        "id": "rSimiakOegZz"
      },
      "source": [
        "# Clustered Index\n",
        "\n",
        "Reordered the physical order of table and search based on key value. Each table can have only one clustered index"
      ]
    },
    {
      "cell_type": "code",
      "metadata": {
        "id": "MBCdpRZJfaR1"
      },
      "source": [
        "Sql_query = \"\"\" Create Clustered Index city_desc on employee_info (city desc);\n",
        "\"\"\"\n",
        "with connection.cursor() as cur:\n",
        "  cur.execute(sql_query)"
      ],
      "execution_count": 19,
      "outputs": []
    },
    {
      "cell_type": "code",
      "metadata": {
        "id": "MOmzYTgmf7EB"
      },
      "source": [
        "sql_query = \"\"\" select * from  pg_indexes WHERE tablename = 'employee_info';\n",
        "\"\"\"\n",
        "pd.read_sql_query(sql_query,connection)"
      ],
      "execution_count": null,
      "outputs": []
    },
    {
      "cell_type": "markdown",
      "metadata": {
        "id": "GJZg6NBmfFcg"
      },
      "source": [
        "# Non-clustered Indexes\n",
        "\n",
        "Non-clustered indexes are sorted references for a specific field, from the main table, that hold pointers back to the original entries of the table.\n",
        "\n",
        "Non-clustered indexes are not new tables. Non-clustered indexes hold the field that they are responsible for sorting and a pointer from each of those entries back to the full entry in the table.\n",
        "\n",
        "Non-clustered indexes point to memory addresses instead of storing data themselves. This makes them slower to query than clustered indexes but typically much faster than a non-indexed column.\n",
        "\n",
        "You can create many non-clustered indexes. We can have up to 999 non-clustered indexes in SQL Server and there is no limit in PostgreSQL."
      ]
    },
    {
      "cell_type": "markdown",
      "metadata": {
        "id": "h4uR-i6WiE59"
      },
      "source": [
        "**Update a table with index take more time because index also need an update.**\n",
        "\n",
        "So, create indexes on columns that will be frequently searched"
      ]
    },
    {
      "cell_type": "markdown",
      "metadata": {
        "id": "TCQzdb1Tiiue"
      },
      "source": [
        "# Drop Index"
      ]
    },
    {
      "cell_type": "code",
      "metadata": {
        "id": "pHNv3JFmdB6O"
      },
      "source": [
        "sql_query2 = \"\"\" Drop Index employee_name_asc;\n",
        "\"\"\"\n",
        "with connection.cursor() as cur:\n",
        "  cur.execute(sql_query2)"
      ],
      "execution_count": 36,
      "outputs": []
    },
    {
      "cell_type": "code",
      "metadata": {
        "colab": {
          "base_uri": "https://localhost:8080/",
          "height": 49
        },
        "id": "gqyZpD2FizkA",
        "outputId": "12487442-0efb-4439-dd01-6c81e0a467d0"
      },
      "source": [
        "sql_query = \"\"\" select * from  pg_indexes WHERE tablename = 'employee_info';\n",
        "\"\"\"\n",
        "pd.read_sql_query(sql_query,connection)"
      ],
      "execution_count": 37,
      "outputs": [
        {
          "output_type": "execute_result",
          "data": {
            "text/html": [
              "<div>\n",
              "<style scoped>\n",
              "    .dataframe tbody tr th:only-of-type {\n",
              "        vertical-align: middle;\n",
              "    }\n",
              "\n",
              "    .dataframe tbody tr th {\n",
              "        vertical-align: top;\n",
              "    }\n",
              "\n",
              "    .dataframe thead th {\n",
              "        text-align: right;\n",
              "    }\n",
              "</style>\n",
              "<table border=\"1\" class=\"dataframe\">\n",
              "  <thead>\n",
              "    <tr style=\"text-align: right;\">\n",
              "      <th></th>\n",
              "      <th>schemaname</th>\n",
              "      <th>tablename</th>\n",
              "      <th>indexname</th>\n",
              "      <th>tablespace</th>\n",
              "      <th>indexdef</th>\n",
              "    </tr>\n",
              "  </thead>\n",
              "  <tbody>\n",
              "  </tbody>\n",
              "</table>\n",
              "</div>"
            ],
            "text/plain": [
              "Empty DataFrame\n",
              "Columns: [schemaname, tablename, indexname, tablespace, indexdef]\n",
              "Index: []"
            ]
          },
          "metadata": {
            "tags": []
          },
          "execution_count": 37
        }
      ]
    }
  ]
}