{
  "nbformat": 4,
  "nbformat_minor": 0,
  "metadata": {
    "colab": {
      "name": "SQL Exercise - 1",
      "provenance": [],
      "collapsed_sections": [],
      "include_colab_link": true
    },
    "kernelspec": {
      "name": "python3",
      "display_name": "Python 3"
    },
    "language_info": {
      "name": "python"
    }
  },
  "cells": [
    {
      "cell_type": "markdown",
      "metadata": {
        "id": "view-in-github",
        "colab_type": "text"
      },
      "source": [
        "<a href=\"https://colab.research.google.com/github/GurmitSeera/SQL-Exercises/blob/main/SQL_Excercises.ipynb\" target=\"_parent\"><img src=\"https://colab.research.google.com/assets/colab-badge.svg\" alt=\"Open In Colab\"/></a>"
      ]
    },
    {
      "cell_type": "code",
      "metadata": {
        "id": "rRyASiwhbXld"
      },
      "source": [
        "# Install postgresql server\n",
        "!sudo apt-get -y -qq update\n",
        "!sudo apt-get -y -qq install postgresql\n",
        "!sudo service postgresql start\n",
        "\n",
        "# Setup a password `postgres` for username `postgres`\n",
        "!sudo -u postgres psql -U postgres -c \"ALTER USER postgres PASSWORD 'postgres';\"\n",
        "\n",
        "# Setup a database with name `tfio_demo` to be used\n",
        "!sudo -u postgres psql -U postgres -c 'DROP DATABASE IF EXISTS testdb;'\n",
        "!sudo -u postgres psql -U postgres -c 'CREATE DATABASE testdb;'\n",
        "!pip install psycopg2"
      ],
      "execution_count": null,
      "outputs": []
    },
    {
      "cell_type": "code",
      "metadata": {
        "id": "8GPV-VpffX-_"
      },
      "source": [
        "import pandas as pd\n",
        "import psycopg2"
      ],
      "execution_count": null,
      "outputs": []
    },
    {
      "cell_type": "code",
      "metadata": {
        "id": "L8CrK94ebcRL"
      },
      "source": [
        "connection_string = {'host':'localhost',\n",
        "                     'dbname':'testdb',\n",
        "                     'user':'postgres',\n",
        "                     'password':'postgres',\n",
        "                     'port':5432}\n",
        "connection = psycopg2.connect(**connection_string)"
      ],
      "execution_count": 3,
      "outputs": []
    },
    {
      "cell_type": "markdown",
      "metadata": {
        "id": "v864Y_VW303a"
      },
      "source": [
        "# Proble Statement 1"
      ]
    },
    {
      "cell_type": "markdown",
      "metadata": {
        "id": "GkyzrF_D5S1g"
      },
      "source": [
        "## Setup"
      ]
    },
    {
      "cell_type": "code",
      "metadata": {
        "id": "CdqmqDA6cQ1l"
      },
      "source": [
        "sql_query = \"\"\"\n",
        "create table salary(\n",
        "  employee_id varchar(10),\n",
        "  department_id varchar(10),\n",
        "  salary double precision\n",
        ");\n",
        "\"\"\"\n",
        "with connection.cursor() as cur:\n",
        "  cur.execute(sql_query)\n",
        "insert_query = \"\"\"\n",
        "insert into salary(employee_id, department_id, salary) \n",
        "values \n",
        "('1','1',100.0),\n",
        "('2','1',200.0),\n",
        "('3','1',300.0),\n",
        "('4','2',400.0),\n",
        "('5','2',600.0),\n",
        "('6','2',100.0),\n",
        "('7','3',500.0),\n",
        "('8','3',500.0),\n",
        "('9','4',1000.0)\n",
        ";\n",
        "\n",
        "\"\"\"\n",
        "with connection.cursor() as cur:\n",
        "  cur.execute(insert_query)"
      ],
      "execution_count": 4,
      "outputs": []
    },
    {
      "cell_type": "markdown",
      "metadata": {
        "id": "pN6CrVm-5ZuF"
      },
      "source": [
        "## Question 1\n",
        "Show department_id, max_salary"
      ]
    },
    {
      "cell_type": "code",
      "metadata": {
        "id": "n9Ae8te2fASn",
        "outputId": "c5fbe04d-6ffc-43f4-aefb-d720f711890c",
        "colab": {
          "base_uri": "https://localhost:8080/",
          "height": 173
        }
      },
      "source": [
        "department_max_salary = \"\"\" Select department_id, max(salary) as max_salary from salary group by department_id;\n",
        "\"\"\"\n",
        "pd.read_sql_query(department_max_salary, connection)"
      ],
      "execution_count": 5,
      "outputs": [
        {
          "output_type": "execute_result",
          "data": {
            "text/html": [
              "<div>\n",
              "<style scoped>\n",
              "    .dataframe tbody tr th:only-of-type {\n",
              "        vertical-align: middle;\n",
              "    }\n",
              "\n",
              "    .dataframe tbody tr th {\n",
              "        vertical-align: top;\n",
              "    }\n",
              "\n",
              "    .dataframe thead th {\n",
              "        text-align: right;\n",
              "    }\n",
              "</style>\n",
              "<table border=\"1\" class=\"dataframe\">\n",
              "  <thead>\n",
              "    <tr style=\"text-align: right;\">\n",
              "      <th></th>\n",
              "      <th>department_id</th>\n",
              "      <th>max_salary</th>\n",
              "    </tr>\n",
              "  </thead>\n",
              "  <tbody>\n",
              "    <tr>\n",
              "      <th>0</th>\n",
              "      <td>2</td>\n",
              "      <td>600.0</td>\n",
              "    </tr>\n",
              "    <tr>\n",
              "      <th>1</th>\n",
              "      <td>4</td>\n",
              "      <td>1000.0</td>\n",
              "    </tr>\n",
              "    <tr>\n",
              "      <th>2</th>\n",
              "      <td>3</td>\n",
              "      <td>500.0</td>\n",
              "    </tr>\n",
              "    <tr>\n",
              "      <th>3</th>\n",
              "      <td>1</td>\n",
              "      <td>300.0</td>\n",
              "    </tr>\n",
              "  </tbody>\n",
              "</table>\n",
              "</div>"
            ],
            "text/plain": [
              "  department_id  max_salary\n",
              "0             2       600.0\n",
              "1             4      1000.0\n",
              "2             3       500.0\n",
              "3             1       300.0"
            ]
          },
          "metadata": {
            "tags": []
          },
          "execution_count": 5
        }
      ]
    },
    {
      "cell_type": "markdown",
      "metadata": {
        "id": "_BeENy1X5lXZ"
      },
      "source": [
        "## Question 2\n",
        "Show department_id, employee_id, max_salary"
      ]
    },
    {
      "cell_type": "code",
      "metadata": {
        "id": "ZR3K5Bhtfozq",
        "outputId": "e09b1b41-ba5c-4668-f879-a7f08779dd0b",
        "colab": {
          "base_uri": "https://localhost:8080/",
          "height": 173
        }
      },
      "source": [
        "query = \"\"\"select employee_id, department_id, salary from (Select employee_id, department_id, salary,\n",
        " rank () over (partition by department_id order by salary desc, employee_id) as s_rank\n",
        "from salary) as A where s_rank = 1;\n",
        "\"\"\"\n",
        "pd.read_sql_query(query,connection)"
      ],
      "execution_count": 6,
      "outputs": [
        {
          "output_type": "execute_result",
          "data": {
            "text/html": [
              "<div>\n",
              "<style scoped>\n",
              "    .dataframe tbody tr th:only-of-type {\n",
              "        vertical-align: middle;\n",
              "    }\n",
              "\n",
              "    .dataframe tbody tr th {\n",
              "        vertical-align: top;\n",
              "    }\n",
              "\n",
              "    .dataframe thead th {\n",
              "        text-align: right;\n",
              "    }\n",
              "</style>\n",
              "<table border=\"1\" class=\"dataframe\">\n",
              "  <thead>\n",
              "    <tr style=\"text-align: right;\">\n",
              "      <th></th>\n",
              "      <th>employee_id</th>\n",
              "      <th>department_id</th>\n",
              "      <th>salary</th>\n",
              "    </tr>\n",
              "  </thead>\n",
              "  <tbody>\n",
              "    <tr>\n",
              "      <th>0</th>\n",
              "      <td>3</td>\n",
              "      <td>1</td>\n",
              "      <td>300.0</td>\n",
              "    </tr>\n",
              "    <tr>\n",
              "      <th>1</th>\n",
              "      <td>5</td>\n",
              "      <td>2</td>\n",
              "      <td>600.0</td>\n",
              "    </tr>\n",
              "    <tr>\n",
              "      <th>2</th>\n",
              "      <td>7</td>\n",
              "      <td>3</td>\n",
              "      <td>500.0</td>\n",
              "    </tr>\n",
              "    <tr>\n",
              "      <th>3</th>\n",
              "      <td>9</td>\n",
              "      <td>4</td>\n",
              "      <td>1000.0</td>\n",
              "    </tr>\n",
              "  </tbody>\n",
              "</table>\n",
              "</div>"
            ],
            "text/plain": [
              "  employee_id department_id  salary\n",
              "0           3             1   300.0\n",
              "1           5             2   600.0\n",
              "2           7             3   500.0\n",
              "3           9             4  1000.0"
            ]
          },
          "metadata": {
            "tags": []
          },
          "execution_count": 6
        }
      ]
    },
    {
      "cell_type": "markdown",
      "metadata": {
        "id": "vvk3lzs35tzb"
      },
      "source": [
        "## Question 3\n",
        "Create employee_info table with columns employee_id, employee_name, city"
      ]
    },
    {
      "cell_type": "code",
      "metadata": {
        "id": "wjreHwfPf6y5"
      },
      "source": [
        "\n",
        "query_create_table2 = \"\"\" Create table employee_info(employee_id varchar(10),\n",
        "employee_name varchar(64), city varchar(64)\n",
        ");\n",
        "\"\"\"\n",
        "with connection.cursor() as cur:\n",
        "  cur.execute(query_create_table2)"
      ],
      "execution_count": 7,
      "outputs": []
    },
    {
      "cell_type": "code",
      "metadata": {
        "id": "s8TjuNwZV8Xv"
      },
      "source": [
        "insert_query1 = \"\"\" Insert into employee_info (employee_id, employee_name, city)\n",
        "values\n",
        "('1', 'Ramesh', 'Delhi'),\n",
        "('2', 'Rahul', 'Gurugram'),\n",
        "('3', 'Sandeep', 'Kolkata'),\n",
        "('4', 'Deepanshu', 'Sonipat'),\n",
        "('5', 'Sapna', 'Noida'),\n",
        "('6', 'Varun', 'Noida'),\n",
        "('7', 'Himanshu', 'Bhopal'),\n",
        "('8', 'Ashwini', 'Jaipur'),\n",
        "('9', 'Vipul','Panipat')\n",
        ";\n",
        "\"\"\"\n",
        "with connection.cursor() as cur:\n",
        "  cur.execute(insert_query1)\n"
      ],
      "execution_count": 8,
      "outputs": []
    },
    {
      "cell_type": "markdown",
      "metadata": {
        "id": "3kZskFwe53TQ"
      },
      "source": [
        "## Question 4\n",
        "Show departmentid, employeeid, employeename, max salary"
      ]
    },
    {
      "cell_type": "code",
      "metadata": {
        "id": "Du6tz_ACgLiR",
        "colab": {
          "base_uri": "https://localhost:8080/",
          "height": 173
        },
        "outputId": "b875871b-a9f1-4330-f36f-ca10c826f751"
      },
      "source": [
        "query1 = \"\"\" select employee_id, department_id, employee_name, salary from (Select b.employee_id, b.department_id, b.salary, c.employee_name,\n",
        " rank () over (partition by b.department_id order by b.salary desc, b.employee_id) as s_rank\n",
        "from salary b left join employee_info c on b.employee_id = c.employee_id) as A where s_rank = 1;\n",
        "\"\"\"\n",
        "pd.read_sql_query(query1,connection)"
      ],
      "execution_count": 9,
      "outputs": [
        {
          "output_type": "execute_result",
          "data": {
            "text/html": [
              "<div>\n",
              "<style scoped>\n",
              "    .dataframe tbody tr th:only-of-type {\n",
              "        vertical-align: middle;\n",
              "    }\n",
              "\n",
              "    .dataframe tbody tr th {\n",
              "        vertical-align: top;\n",
              "    }\n",
              "\n",
              "    .dataframe thead th {\n",
              "        text-align: right;\n",
              "    }\n",
              "</style>\n",
              "<table border=\"1\" class=\"dataframe\">\n",
              "  <thead>\n",
              "    <tr style=\"text-align: right;\">\n",
              "      <th></th>\n",
              "      <th>employee_id</th>\n",
              "      <th>department_id</th>\n",
              "      <th>employee_name</th>\n",
              "      <th>salary</th>\n",
              "    </tr>\n",
              "  </thead>\n",
              "  <tbody>\n",
              "    <tr>\n",
              "      <th>0</th>\n",
              "      <td>3</td>\n",
              "      <td>1</td>\n",
              "      <td>Sandeep</td>\n",
              "      <td>300.0</td>\n",
              "    </tr>\n",
              "    <tr>\n",
              "      <th>1</th>\n",
              "      <td>5</td>\n",
              "      <td>2</td>\n",
              "      <td>Sapna</td>\n",
              "      <td>600.0</td>\n",
              "    </tr>\n",
              "    <tr>\n",
              "      <th>2</th>\n",
              "      <td>7</td>\n",
              "      <td>3</td>\n",
              "      <td>Himanshu</td>\n",
              "      <td>500.0</td>\n",
              "    </tr>\n",
              "    <tr>\n",
              "      <th>3</th>\n",
              "      <td>9</td>\n",
              "      <td>4</td>\n",
              "      <td>Vipul</td>\n",
              "      <td>1000.0</td>\n",
              "    </tr>\n",
              "  </tbody>\n",
              "</table>\n",
              "</div>"
            ],
            "text/plain": [
              "  employee_id department_id employee_name  salary\n",
              "0           3             1       Sandeep   300.0\n",
              "1           5             2         Sapna   600.0\n",
              "2           7             3      Himanshu   500.0\n",
              "3           9             4         Vipul  1000.0"
            ]
          },
          "metadata": {
            "tags": []
          },
          "execution_count": 9
        }
      ]
    },
    {
      "cell_type": "markdown",
      "metadata": {
        "id": "v8Ao2Bix59Ye"
      },
      "source": [
        "## Question 5\n",
        "Show employeeid, employeename, salary, salary %"
      ]
    },
    {
      "cell_type": "code",
      "metadata": {
        "id": "CdUIApOrgZHd",
        "outputId": "8b008364-a323-48ff-f2e4-9292c7fe7f6c",
        "colab": {
          "base_uri": "https://localhost:8080/",
          "height": 328
        }
      },
      "source": [
        "## get employeeid, employeename, salary, salary %\n",
        "query2 = \"\"\" Select employee_id, employee_name, salary,\n",
        "100.0*coalesce(salary,0)/sum(coalesce(salary,0)) over () as salary_percentage from (\n",
        "Select s.employee_id, e.employee_name, s.salary\n",
        "from salary s left join employee_info e on s.employee_id = e.employee_id) as A ;\n",
        "\"\"\"\n",
        "pd.read_sql_query(query2, connection)"
      ],
      "execution_count": 10,
      "outputs": [
        {
          "output_type": "execute_result",
          "data": {
            "text/html": [
              "<div>\n",
              "<style scoped>\n",
              "    .dataframe tbody tr th:only-of-type {\n",
              "        vertical-align: middle;\n",
              "    }\n",
              "\n",
              "    .dataframe tbody tr th {\n",
              "        vertical-align: top;\n",
              "    }\n",
              "\n",
              "    .dataframe thead th {\n",
              "        text-align: right;\n",
              "    }\n",
              "</style>\n",
              "<table border=\"1\" class=\"dataframe\">\n",
              "  <thead>\n",
              "    <tr style=\"text-align: right;\">\n",
              "      <th></th>\n",
              "      <th>employee_id</th>\n",
              "      <th>employee_name</th>\n",
              "      <th>salary</th>\n",
              "      <th>salary_percentage</th>\n",
              "    </tr>\n",
              "  </thead>\n",
              "  <tbody>\n",
              "    <tr>\n",
              "      <th>0</th>\n",
              "      <td>1</td>\n",
              "      <td>Ramesh</td>\n",
              "      <td>100.0</td>\n",
              "      <td>2.702703</td>\n",
              "    </tr>\n",
              "    <tr>\n",
              "      <th>1</th>\n",
              "      <td>2</td>\n",
              "      <td>Rahul</td>\n",
              "      <td>200.0</td>\n",
              "      <td>5.405405</td>\n",
              "    </tr>\n",
              "    <tr>\n",
              "      <th>2</th>\n",
              "      <td>3</td>\n",
              "      <td>Sandeep</td>\n",
              "      <td>300.0</td>\n",
              "      <td>8.108108</td>\n",
              "    </tr>\n",
              "    <tr>\n",
              "      <th>3</th>\n",
              "      <td>4</td>\n",
              "      <td>Deepanshu</td>\n",
              "      <td>400.0</td>\n",
              "      <td>10.810811</td>\n",
              "    </tr>\n",
              "    <tr>\n",
              "      <th>4</th>\n",
              "      <td>5</td>\n",
              "      <td>Sapna</td>\n",
              "      <td>600.0</td>\n",
              "      <td>16.216216</td>\n",
              "    </tr>\n",
              "    <tr>\n",
              "      <th>5</th>\n",
              "      <td>6</td>\n",
              "      <td>Varun</td>\n",
              "      <td>100.0</td>\n",
              "      <td>2.702703</td>\n",
              "    </tr>\n",
              "    <tr>\n",
              "      <th>6</th>\n",
              "      <td>7</td>\n",
              "      <td>Himanshu</td>\n",
              "      <td>500.0</td>\n",
              "      <td>13.513514</td>\n",
              "    </tr>\n",
              "    <tr>\n",
              "      <th>7</th>\n",
              "      <td>8</td>\n",
              "      <td>Ashwini</td>\n",
              "      <td>500.0</td>\n",
              "      <td>13.513514</td>\n",
              "    </tr>\n",
              "    <tr>\n",
              "      <th>8</th>\n",
              "      <td>9</td>\n",
              "      <td>Vipul</td>\n",
              "      <td>1000.0</td>\n",
              "      <td>27.027027</td>\n",
              "    </tr>\n",
              "  </tbody>\n",
              "</table>\n",
              "</div>"
            ],
            "text/plain": [
              "  employee_id employee_name  salary  salary_percentage\n",
              "0           1        Ramesh   100.0           2.702703\n",
              "1           2         Rahul   200.0           5.405405\n",
              "2           3       Sandeep   300.0           8.108108\n",
              "3           4     Deepanshu   400.0          10.810811\n",
              "4           5         Sapna   600.0          16.216216\n",
              "5           6         Varun   100.0           2.702703\n",
              "6           7      Himanshu   500.0          13.513514\n",
              "7           8       Ashwini   500.0          13.513514\n",
              "8           9         Vipul  1000.0          27.027027"
            ]
          },
          "metadata": {
            "tags": []
          },
          "execution_count": 10
        }
      ]
    },
    {
      "cell_type": "markdown",
      "metadata": {
        "id": "9a6T4BFc6DsE"
      },
      "source": [
        "## Question 6\n",
        "Show employeeid, departmentid, salary where salary > 500.0"
      ]
    },
    {
      "cell_type": "code",
      "metadata": {
        "id": "2UvjeponglbJ",
        "outputId": "d05ca654-55a3-43c5-cc4b-2324f59e6db8",
        "colab": {
          "base_uri": "https://localhost:8080/",
          "height": 111
        }
      },
      "source": [
        "## get employeeid, departmentid, salary where salary > 500.0\n",
        "query3 = \"\"\" Select employee_id, department_id, salary from salary where salary > 500.0;\n",
        "\"\"\"\n",
        "pd.read_sql_query(query3,connection)"
      ],
      "execution_count": 11,
      "outputs": [
        {
          "output_type": "execute_result",
          "data": {
            "text/html": [
              "<div>\n",
              "<style scoped>\n",
              "    .dataframe tbody tr th:only-of-type {\n",
              "        vertical-align: middle;\n",
              "    }\n",
              "\n",
              "    .dataframe tbody tr th {\n",
              "        vertical-align: top;\n",
              "    }\n",
              "\n",
              "    .dataframe thead th {\n",
              "        text-align: right;\n",
              "    }\n",
              "</style>\n",
              "<table border=\"1\" class=\"dataframe\">\n",
              "  <thead>\n",
              "    <tr style=\"text-align: right;\">\n",
              "      <th></th>\n",
              "      <th>employee_id</th>\n",
              "      <th>department_id</th>\n",
              "      <th>salary</th>\n",
              "    </tr>\n",
              "  </thead>\n",
              "  <tbody>\n",
              "    <tr>\n",
              "      <th>0</th>\n",
              "      <td>5</td>\n",
              "      <td>2</td>\n",
              "      <td>600.0</td>\n",
              "    </tr>\n",
              "    <tr>\n",
              "      <th>1</th>\n",
              "      <td>9</td>\n",
              "      <td>4</td>\n",
              "      <td>1000.0</td>\n",
              "    </tr>\n",
              "  </tbody>\n",
              "</table>\n",
              "</div>"
            ],
            "text/plain": [
              "  employee_id department_id  salary\n",
              "0           5             2   600.0\n",
              "1           9             4  1000.0"
            ]
          },
          "metadata": {
            "tags": []
          },
          "execution_count": 11
        }
      ]
    },
    {
      "cell_type": "markdown",
      "metadata": {
        "id": "OaYsF2BU6IgZ"
      },
      "source": [
        "## Question 7\n",
        "create new column in salary table having age of employee with (1,30), (2,30), (3,31), (4,31), (5,32) , (6,33), (7,32), (8,33), (9,31)"
      ]
    },
    {
      "cell_type": "code",
      "metadata": {
        "id": "SeFwrJyHAgfS"
      },
      "source": [
        "Query4 = \"\"\" Begin transaction;\n",
        "Alter table salary add age float(32) default 1.0 ;\n",
        "Update salary set age = 30 where employee_id = '1';\n",
        "Update salary set age = 30 where employee_id = '2';\n",
        "Update salary set age = 31 where employee_id = '3';\n",
        "Update salary set age = 31 where employee_id = '4';\n",
        "Update salary set age = 32 where employee_id = '5';\n",
        "Update salary set age = 33 where employee_id = '6';\n",
        "Update salary set age = 32 where employee_id = '7';\n",
        "Update salary set age = 33 where employee_id = '8';\n",
        "Update salary set age = 31 where employee_id = '9';\n",
        "END transaction;\n",
        "\"\"\"\n",
        "with connection.cursor() as cur:\n",
        "  cur.execute(Query4)\n"
      ],
      "execution_count": 12,
      "outputs": []
    },
    {
      "cell_type": "markdown",
      "metadata": {
        "id": "GTBYp5O-6NUW"
      },
      "source": [
        "## Question 8\n",
        "Show age, average salary for each age"
      ]
    },
    {
      "cell_type": "code",
      "metadata": {
        "id": "ob0TayADKzFw",
        "outputId": "6972c3b1-8e1b-4776-99e1-b947906a9af6",
        "colab": {
          "base_uri": "https://localhost:8080/",
          "height": 173
        }
      },
      "source": [
        "query = \"\"\" Select age, avg(salary) as avg_salary_for_each_age from salary group by age;\n",
        "\"\"\"\n",
        "pd.read_sql_query(query, connection)"
      ],
      "execution_count": 13,
      "outputs": [
        {
          "output_type": "execute_result",
          "data": {
            "text/html": [
              "<div>\n",
              "<style scoped>\n",
              "    .dataframe tbody tr th:only-of-type {\n",
              "        vertical-align: middle;\n",
              "    }\n",
              "\n",
              "    .dataframe tbody tr th {\n",
              "        vertical-align: top;\n",
              "    }\n",
              "\n",
              "    .dataframe thead th {\n",
              "        text-align: right;\n",
              "    }\n",
              "</style>\n",
              "<table border=\"1\" class=\"dataframe\">\n",
              "  <thead>\n",
              "    <tr style=\"text-align: right;\">\n",
              "      <th></th>\n",
              "      <th>age</th>\n",
              "      <th>avg_salary_for_each_age</th>\n",
              "    </tr>\n",
              "  </thead>\n",
              "  <tbody>\n",
              "    <tr>\n",
              "      <th>0</th>\n",
              "      <td>33.0</td>\n",
              "      <td>300.000000</td>\n",
              "    </tr>\n",
              "    <tr>\n",
              "      <th>1</th>\n",
              "      <td>31.0</td>\n",
              "      <td>566.666667</td>\n",
              "    </tr>\n",
              "    <tr>\n",
              "      <th>2</th>\n",
              "      <td>30.0</td>\n",
              "      <td>150.000000</td>\n",
              "    </tr>\n",
              "    <tr>\n",
              "      <th>3</th>\n",
              "      <td>32.0</td>\n",
              "      <td>550.000000</td>\n",
              "    </tr>\n",
              "  </tbody>\n",
              "</table>\n",
              "</div>"
            ],
            "text/plain": [
              "    age  avg_salary_for_each_age\n",
              "0  33.0               300.000000\n",
              "1  31.0               566.666667\n",
              "2  30.0               150.000000\n",
              "3  32.0               550.000000"
            ]
          },
          "metadata": {
            "tags": []
          },
          "execution_count": 13
        }
      ]
    },
    {
      "cell_type": "markdown",
      "metadata": {
        "id": "CPGmeMqt6Rld"
      },
      "source": [
        "## Question 9\n",
        "Show department id, age, average salary for each age and department"
      ]
    },
    {
      "cell_type": "code",
      "metadata": {
        "id": "RxowjAe2LQLi",
        "outputId": "d5e990e7-4b04-458f-a664-1ed04078c5a8",
        "colab": {
          "base_uri": "https://localhost:8080/",
          "height": 297
        }
      },
      "source": [
        "query = \"\"\" Select department_id, age, avg(salary) as avg_salary_for_each_age from salary group by 1,2;\n",
        "\"\"\"\n",
        "pd.read_sql_query(query, connection)"
      ],
      "execution_count": 14,
      "outputs": [
        {
          "output_type": "execute_result",
          "data": {
            "text/html": [
              "<div>\n",
              "<style scoped>\n",
              "    .dataframe tbody tr th:only-of-type {\n",
              "        vertical-align: middle;\n",
              "    }\n",
              "\n",
              "    .dataframe tbody tr th {\n",
              "        vertical-align: top;\n",
              "    }\n",
              "\n",
              "    .dataframe thead th {\n",
              "        text-align: right;\n",
              "    }\n",
              "</style>\n",
              "<table border=\"1\" class=\"dataframe\">\n",
              "  <thead>\n",
              "    <tr style=\"text-align: right;\">\n",
              "      <th></th>\n",
              "      <th>department_id</th>\n",
              "      <th>age</th>\n",
              "      <th>avg_salary_for_each_age</th>\n",
              "    </tr>\n",
              "  </thead>\n",
              "  <tbody>\n",
              "    <tr>\n",
              "      <th>0</th>\n",
              "      <td>2</td>\n",
              "      <td>33.0</td>\n",
              "      <td>100.0</td>\n",
              "    </tr>\n",
              "    <tr>\n",
              "      <th>1</th>\n",
              "      <td>3</td>\n",
              "      <td>33.0</td>\n",
              "      <td>500.0</td>\n",
              "    </tr>\n",
              "    <tr>\n",
              "      <th>2</th>\n",
              "      <td>3</td>\n",
              "      <td>32.0</td>\n",
              "      <td>500.0</td>\n",
              "    </tr>\n",
              "    <tr>\n",
              "      <th>3</th>\n",
              "      <td>2</td>\n",
              "      <td>31.0</td>\n",
              "      <td>400.0</td>\n",
              "    </tr>\n",
              "    <tr>\n",
              "      <th>4</th>\n",
              "      <td>4</td>\n",
              "      <td>31.0</td>\n",
              "      <td>1000.0</td>\n",
              "    </tr>\n",
              "    <tr>\n",
              "      <th>5</th>\n",
              "      <td>1</td>\n",
              "      <td>31.0</td>\n",
              "      <td>300.0</td>\n",
              "    </tr>\n",
              "    <tr>\n",
              "      <th>6</th>\n",
              "      <td>2</td>\n",
              "      <td>32.0</td>\n",
              "      <td>600.0</td>\n",
              "    </tr>\n",
              "    <tr>\n",
              "      <th>7</th>\n",
              "      <td>1</td>\n",
              "      <td>30.0</td>\n",
              "      <td>150.0</td>\n",
              "    </tr>\n",
              "  </tbody>\n",
              "</table>\n",
              "</div>"
            ],
            "text/plain": [
              "  department_id   age  avg_salary_for_each_age\n",
              "0             2  33.0                    100.0\n",
              "1             3  33.0                    500.0\n",
              "2             3  32.0                    500.0\n",
              "3             2  31.0                    400.0\n",
              "4             4  31.0                   1000.0\n",
              "5             1  31.0                    300.0\n",
              "6             2  32.0                    600.0\n",
              "7             1  30.0                    150.0"
            ]
          },
          "metadata": {
            "tags": []
          },
          "execution_count": 14
        }
      ]
    },
    {
      "cell_type": "markdown",
      "metadata": {
        "id": "tGdmbDWm6fP4"
      },
      "source": [
        "## Question 10\n",
        "update employee id 1 salary to 1000.0 from 100.0"
      ]
    },
    {
      "cell_type": "code",
      "metadata": {
        "id": "gVx86jtTLYRs"
      },
      "source": [
        "query = \"\"\" Update salary set salary = 100.0 where employee_id = '1';\n",
        "\"\"\"\n",
        "with connection.cursor() as cur:\n",
        "  cur.execute(query)"
      ],
      "execution_count": 15,
      "outputs": []
    },
    {
      "cell_type": "markdown",
      "metadata": {
        "id": "nS7_6in76jKH"
      },
      "source": [
        "## Question 11\n",
        "show table with employee id, employee name, city where salary > 500.0"
      ]
    },
    {
      "cell_type": "code",
      "metadata": {
        "id": "T1m-zv8KLtNP",
        "outputId": "a0650a17-162a-4f0e-cc9d-70a8936c52c2",
        "colab": {
          "base_uri": "https://localhost:8080/",
          "height": 111
        }
      },
      "source": [
        "query = \"\"\" Select s.employee_id, e.employee_name, e.city, s.salary\n",
        "from salary s left join employee_info e on s.employee_id = e.employee_id where s.salary > 500.0;\n",
        "\"\"\"\n",
        "pd.read_sql_query(query, connection)"
      ],
      "execution_count": 16,
      "outputs": [
        {
          "output_type": "execute_result",
          "data": {
            "text/html": [
              "<div>\n",
              "<style scoped>\n",
              "    .dataframe tbody tr th:only-of-type {\n",
              "        vertical-align: middle;\n",
              "    }\n",
              "\n",
              "    .dataframe tbody tr th {\n",
              "        vertical-align: top;\n",
              "    }\n",
              "\n",
              "    .dataframe thead th {\n",
              "        text-align: right;\n",
              "    }\n",
              "</style>\n",
              "<table border=\"1\" class=\"dataframe\">\n",
              "  <thead>\n",
              "    <tr style=\"text-align: right;\">\n",
              "      <th></th>\n",
              "      <th>employee_id</th>\n",
              "      <th>employee_name</th>\n",
              "      <th>city</th>\n",
              "      <th>salary</th>\n",
              "    </tr>\n",
              "  </thead>\n",
              "  <tbody>\n",
              "    <tr>\n",
              "      <th>0</th>\n",
              "      <td>5</td>\n",
              "      <td>Sapna</td>\n",
              "      <td>Noida</td>\n",
              "      <td>600.0</td>\n",
              "    </tr>\n",
              "    <tr>\n",
              "      <th>1</th>\n",
              "      <td>9</td>\n",
              "      <td>Vipul</td>\n",
              "      <td>Panipat</td>\n",
              "      <td>1000.0</td>\n",
              "    </tr>\n",
              "  </tbody>\n",
              "</table>\n",
              "</div>"
            ],
            "text/plain": [
              "  employee_id employee_name     city  salary\n",
              "0           5         Sapna    Noida   600.0\n",
              "1           9         Vipul  Panipat  1000.0"
            ]
          },
          "metadata": {
            "tags": []
          },
          "execution_count": 16
        }
      ]
    },
    {
      "cell_type": "markdown",
      "metadata": {
        "id": "JqmbEALYj9o2"
      },
      "source": [
        "# Problem Statement 2"
      ]
    },
    {
      "cell_type": "code",
      "metadata": {
        "id": "KTEGm9uBkfEw"
      },
      "source": [
        "Sql_query = \"\"\"\n",
        "CREATE TABLE Warehouses (\n",
        "   Code INTEGER NOT NULL,\n",
        "   Location VARCHAR(255) NOT NULL ,\n",
        "   Capacity INTEGER NOT NULL,\n",
        "   PRIMARY KEY (Code)\n",
        " );\n",
        "CREATE TABLE Boxes (\n",
        "    Code CHAR(4) NOT NULL,\n",
        "    Contents VARCHAR(255) NOT NULL ,\n",
        "    Value REAL NOT NULL ,\n",
        "    Warehouse INTEGER NOT NULL,\n",
        "    PRIMARY KEY (Code),\n",
        "    FOREIGN KEY (Warehouse) REFERENCES Warehouses(Code)\n",
        " ) ;\n",
        "\"\"\"\n",
        "with connection.cursor() as cur:\n",
        "  cur.execute(Sql_query)\n",
        "insert_query = \"\"\"INSERT INTO Warehouses(Code,Location,Capacity)\n",
        "                  values\n",
        "                  (1,'Chicago',3),\n",
        "                  (2,'Chicago',4),\n",
        "                  (3,'New York',7),\n",
        "                  (4,'Los Angeles',2),\n",
        "                  (5,'San Francisco',8)\n",
        "                  ;\n",
        "\n",
        "                  INSERT INTO Boxes(Code,Contents,Value,Warehouse) \n",
        "                  VALUES\n",
        "                  ('0MN7','Rocks',180,3),\n",
        "                  ('4H8P','Rocks',250,1),\n",
        "                  ('4RT3','Scissors',190,4),\n",
        "                  ('7G3H','Rocks',200,1),\n",
        "                  ('8JN6','Papers',75,1),\n",
        "                  ('8Y6U','Papers',50,3),\n",
        "                  ('9J6F','Papers',175,2),\n",
        "                  ('LL08','Rocks',140,4),\n",
        "                  ('P0H6','Scissors',125,1),\n",
        "                  ('P2T6','Scissors',150,2),\n",
        "                  ('TU55','Papers',90,5)\n",
        "                  ;\n",
        "\"\"\""
      ],
      "execution_count": 19,
      "outputs": []
    },
    {
      "cell_type": "markdown",
      "metadata": {
        "id": "9eQfGe3FmJMm"
      },
      "source": [
        "# Question 1\n",
        "Select the code of each box, along with the name of the city the box is located in."
      ]
    },
    {
      "cell_type": "code",
      "metadata": {
        "id": "msuTsdGKmdQA"
      },
      "source": [
        "query= \"\"\" SELECT Boxes.Code, Location\n",
        "           FROM Warehouses \n",
        "           INNER JOIN Boxes\n",
        "           ON Warehouses.Code = Boxes.Warehouse;\n",
        "\"\"\"\n",
        "pd.read_sql_query = (query, connection)"
      ],
      "execution_count": 21,
      "outputs": []
    },
    {
      "cell_type": "code",
      "metadata": {
        "id": "ua18E387LXKk"
      },
      "source": [
        ""
      ],
      "execution_count": null,
      "outputs": []
    }
  ]
}