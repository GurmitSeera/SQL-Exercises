{
  "nbformat": 4,
  "nbformat_minor": 0,
  "metadata": {
    "colab": {
      "name": "SQL Exercise - 1",
      "provenance": [],
      "collapsed_sections": [],
      "include_colab_link": true
    },
    "kernelspec": {
      "name": "python3",
      "display_name": "Python 3"
    },
    "language_info": {
      "name": "python"
    }
  },
  "cells": [
    {
      "cell_type": "markdown",
      "metadata": {
        "id": "view-in-github",
        "colab_type": "text"
      },
      "source": [
        "<a href=\"https://colab.research.google.com/github/GurmitSeera/Test_repo/blob/main/SQL_Excercises.ipynb\" target=\"_parent\"><img src=\"https://colab.research.google.com/assets/colab-badge.svg\" alt=\"Open In Colab\"/></a>"
      ]
    },
    {
      "cell_type": "code",
      "metadata": {
        "id": "rRyASiwhbXld",
        "colab": {
          "base_uri": "https://localhost:8080/"
        },
        "outputId": "984e3a90-5f8c-4a76-935e-3360be922c08"
      },
      "source": [
        "# Install postgresql server\n",
        "!sudo apt-get -y -qq update\n",
        "!sudo apt-get -y -qq install postgresql\n",
        "!sudo service postgresql start\n",
        "\n",
        "# Setup a password `postgres` for username `postgres`\n",
        "!sudo -u postgres psql -U postgres -c \"ALTER USER postgres PASSWORD 'postgres';\"\n",
        "\n",
        "# Setup a database with name `tfio_demo` to be used\n",
        "!sudo -u postgres psql -U postgres -c 'DROP DATABASE IF EXISTS testdb;'\n",
        "!sudo -u postgres psql -U postgres -c 'CREATE DATABASE testdb;'\n",
        "!pip install psycopg2"
      ],
      "execution_count": null,
      "outputs": [
        {
          "output_type": "stream",
          "text": [
            " * Starting PostgreSQL 10 database server\n",
            "   ...done.\n",
            "ALTER ROLE\n",
            "ERROR:  database \"testdb\" is being accessed by other users\n",
            "DETAIL:  There are 3 other sessions using the database.\n",
            "ERROR:  database \"testdb\" already exists\n",
            "Requirement already satisfied: psycopg2 in /usr/local/lib/python3.7/dist-packages (2.7.6.1)\n"
          ],
          "name": "stdout"
        }
      ]
    },
    {
      "cell_type": "code",
      "metadata": {
        "id": "8GPV-VpffX-_"
      },
      "source": [
        "import pandas as pd\n",
        "import psycopg2"
      ],
      "execution_count": null,
      "outputs": []
    },
    {
      "cell_type": "code",
      "metadata": {
        "id": "L8CrK94ebcRL"
      },
      "source": [
        "connection_string = {'host':'localhost',\n",
        "                     'dbname':'testdb',\n",
        "                     'user':'postgres',\n",
        "                     'password':'postgres',\n",
        "                     'port':5432}\n",
        "connection = psycopg2.connect(**connection_string)"
      ],
      "execution_count": null,
      "outputs": []
    },
    {
      "cell_type": "markdown",
      "metadata": {
        "id": "v864Y_VW303a"
      },
      "source": [
        "# Proble Statement 1"
      ]
    },
    {
      "cell_type": "markdown",
      "metadata": {
        "id": "GkyzrF_D5S1g"
      },
      "source": [
        "## Setup"
      ]
    },
    {
      "cell_type": "code",
      "metadata": {
        "id": "CdqmqDA6cQ1l",
        "colab": {
          "base_uri": "https://localhost:8080/",
          "height": 231
        },
        "outputId": "cebba38b-cdc1-4398-87a9-3439bd3c5fb2"
      },
      "source": [
        "sql_query = \"\"\"\n",
        "create table salary(\n",
        "  employee_id varchar(10),\n",
        "  department_id varchar(10),\n",
        "  salary double precision\n",
        ");\n",
        "\"\"\"\n",
        "with connection.cursor() as cur:\n",
        "  cur.execute(sql_query)\n",
        "insert_query = \"\"\"\n",
        "insert into salary(employee_id, department_id, salary) \n",
        "values \n",
        "('1','1',100.0),\n",
        "('2','1',200.0),\n",
        "('3','1',300.0),\n",
        "('4','2',400.0),\n",
        "('5','2',600.0),\n",
        "('6','2',100.0),\n",
        "('7','3',500.0),\n",
        "('8','3',500.0),\n",
        "('9','4',1000.0)\n",
        ";\n",
        "\n",
        "\"\"\"\n",
        "with connection.cursor() as cur:\n",
        "  cur.execute(insert_query)"
      ],
      "execution_count": null,
      "outputs": [
        {
          "output_type": "error",
          "ename": "ProgrammingError",
          "evalue": "ignored",
          "traceback": [
            "\u001b[0;31m---------------------------------------------------------------------------\u001b[0m",
            "\u001b[0;31mProgrammingError\u001b[0m                          Traceback (most recent call last)",
            "\u001b[0;32m<ipython-input-32-6e11a1563577>\u001b[0m in \u001b[0;36m<module>\u001b[0;34m()\u001b[0m\n\u001b[1;32m      7\u001b[0m \"\"\"\n\u001b[1;32m      8\u001b[0m \u001b[0;32mwith\u001b[0m \u001b[0mconnection\u001b[0m\u001b[0;34m.\u001b[0m\u001b[0mcursor\u001b[0m\u001b[0;34m(\u001b[0m\u001b[0;34m)\u001b[0m \u001b[0;32mas\u001b[0m \u001b[0mcur\u001b[0m\u001b[0;34m:\u001b[0m\u001b[0;34m\u001b[0m\u001b[0;34m\u001b[0m\u001b[0m\n\u001b[0;32m----> 9\u001b[0;31m   \u001b[0mcur\u001b[0m\u001b[0;34m.\u001b[0m\u001b[0mexecute\u001b[0m\u001b[0;34m(\u001b[0m\u001b[0msql_query\u001b[0m\u001b[0;34m)\u001b[0m\u001b[0;34m\u001b[0m\u001b[0;34m\u001b[0m\u001b[0m\n\u001b[0m\u001b[1;32m     10\u001b[0m insert_query = \"\"\"\n\u001b[1;32m     11\u001b[0m \u001b[0minsert\u001b[0m \u001b[0minto\u001b[0m \u001b[0msalary\u001b[0m\u001b[0;34m(\u001b[0m\u001b[0memployee_id\u001b[0m\u001b[0;34m,\u001b[0m \u001b[0mdepartment_id\u001b[0m\u001b[0;34m,\u001b[0m \u001b[0msalary\u001b[0m\u001b[0;34m)\u001b[0m\u001b[0;34m\u001b[0m\u001b[0;34m\u001b[0m\u001b[0m\n",
            "\u001b[0;31mProgrammingError\u001b[0m: relation \"salary\" already exists\n"
          ]
        }
      ]
    },
    {
      "cell_type": "markdown",
      "metadata": {
        "id": "pN6CrVm-5ZuF"
      },
      "source": [
        "## Question 1\n",
        "Show department_id, max_salary"
      ]
    },
    {
      "cell_type": "code",
      "metadata": {
        "id": "n9Ae8te2fASn"
      },
      "source": [
        "department_max_salary = \"\"\" Select department_id, max(salary) as max_salary from salary group by department_id;\n",
        "\"\"\"\n",
        "pd.read_sql_query(department_max_salary, connection)"
      ],
      "execution_count": null,
      "outputs": []
    },
    {
      "cell_type": "markdown",
      "metadata": {
        "id": "_BeENy1X5lXZ"
      },
      "source": [
        "## Question 2\n",
        "Show department_id, employee_id, max_salary"
      ]
    },
    {
      "cell_type": "code",
      "metadata": {
        "id": "ZR3K5Bhtfozq"
      },
      "source": [
        "query = \"\"\"select employee_id, department_id, salary from (Select employee_id, department_id, salary,\n",
        " rank () over (partition by department_id order by salary desc, employee_id) as s_rank\n",
        "from salary) as A where s_rank = 1;\n",
        "\"\"\"\n",
        "pd.read_sql_query(query,connection)"
      ],
      "execution_count": null,
      "outputs": []
    },
    {
      "cell_type": "markdown",
      "metadata": {
        "id": "vvk3lzs35tzb"
      },
      "source": [
        "## Question 3\n",
        "Create employee_info table with columns employee_id, employee_name, city"
      ]
    },
    {
      "cell_type": "code",
      "metadata": {
        "id": "wjreHwfPf6y5"
      },
      "source": [
        "\n",
        "query_create_table2 = \"\"\" Create table employee_info(employee_id varchar(10),\n",
        "employee_name varchar(64), city varchar(64)\n",
        ");\n",
        "\"\"\"\n",
        "with connection.cursor() as cur:\n",
        "  cur.execute(query_create_table2)"
      ],
      "execution_count": null,
      "outputs": []
    },
    {
      "cell_type": "code",
      "metadata": {
        "id": "s8TjuNwZV8Xv"
      },
      "source": [
        "insert_query1 = \"\"\" Insert into employee_info (employee_id, employee_name, city)\n",
        "values\n",
        "('1', 'Ramesh', 'Delhi'),\n",
        "('2', 'Rahul', 'Gurugram'),\n",
        "('3', 'Sandeep', 'Kolkata'),\n",
        "('4', 'Deepanshu', 'Sonipat'),\n",
        "('5', 'Sapna', 'Noida'),\n",
        "('6', 'Varun', 'Noida'),\n",
        "('7', 'Himanshu', 'Bhopal'),\n",
        "('8', 'Ashwini', 'Jaipur'),\n",
        "('9', 'Vipul','Panipat')\n",
        ";\n",
        "\"\"\"\n",
        "with connection.cursor() as cur:\n",
        "  cur.execute(insert_query1)\n"
      ],
      "execution_count": null,
      "outputs": []
    },
    {
      "cell_type": "markdown",
      "metadata": {
        "id": "3kZskFwe53TQ"
      },
      "source": [
        "## Question 4\n",
        "Show departmentid, employeeid, employeename, max salary"
      ]
    },
    {
      "cell_type": "code",
      "metadata": {
        "id": "Du6tz_ACgLiR",
        "colab": {
          "base_uri": "https://localhost:8080/",
          "height": 510
        },
        "outputId": "245f49c5-4c9a-4bdb-eb8a-b4b3b0abcc08"
      },
      "source": [
        "query1 = \"\"\" select employee_id, department_id, employee_name, salary from (Select b.employee_id, b.department_id, b.salary, c.employee_name,\n",
        " rank () over (partition by b.department_id order by b.salary desc, b.employee_id) as s_rank\n",
        "from salary b left join employee_info c on b.employee_id = c.employee_id) as A where s_rank = 1;\n",
        "\"\"\"\n",
        "pd.read_sql_query(query1,connection)"
      ],
      "execution_count": null,
      "outputs": [
        {
          "output_type": "error",
          "ename": "DatabaseError",
          "evalue": "ignored",
          "traceback": [
            "\u001b[0;31m---------------------------------------------------------------------------\u001b[0m",
            "\u001b[0;31mInternalError\u001b[0m                             Traceback (most recent call last)",
            "\u001b[0;32m/usr/local/lib/python3.7/dist-packages/pandas/io/sql.py\u001b[0m in \u001b[0;36mexecute\u001b[0;34m(self, *args, **kwargs)\u001b[0m\n\u001b[1;32m   1680\u001b[0m         \u001b[0;32mtry\u001b[0m\u001b[0;34m:\u001b[0m\u001b[0;34m\u001b[0m\u001b[0;34m\u001b[0m\u001b[0m\n\u001b[0;32m-> 1681\u001b[0;31m             \u001b[0mcur\u001b[0m\u001b[0;34m.\u001b[0m\u001b[0mexecute\u001b[0m\u001b[0;34m(\u001b[0m\u001b[0;34m*\u001b[0m\u001b[0margs\u001b[0m\u001b[0;34m,\u001b[0m \u001b[0;34m**\u001b[0m\u001b[0mkwargs\u001b[0m\u001b[0;34m)\u001b[0m\u001b[0;34m\u001b[0m\u001b[0;34m\u001b[0m\u001b[0m\n\u001b[0m\u001b[1;32m   1682\u001b[0m             \u001b[0;32mreturn\u001b[0m \u001b[0mcur\u001b[0m\u001b[0;34m\u001b[0m\u001b[0;34m\u001b[0m\u001b[0m\n",
            "\u001b[0;31mInternalError\u001b[0m: current transaction is aborted, commands ignored until end of transaction block\n",
            "\nThe above exception was the direct cause of the following exception:\n",
            "\u001b[0;31mDatabaseError\u001b[0m                             Traceback (most recent call last)",
            "\u001b[0;32m<ipython-input-28-64a570e3437f>\u001b[0m in \u001b[0;36m<module>\u001b[0;34m()\u001b[0m\n\u001b[1;32m      3\u001b[0m from salary b left join employee_info c on b.employee_id = c.employee_id) as A where s_rank = 1;\n\u001b[1;32m      4\u001b[0m \"\"\"\n\u001b[0;32m----> 5\u001b[0;31m \u001b[0mpd\u001b[0m\u001b[0;34m.\u001b[0m\u001b[0mread_sql_query\u001b[0m\u001b[0;34m(\u001b[0m\u001b[0mquery1\u001b[0m\u001b[0;34m,\u001b[0m\u001b[0mconnection\u001b[0m\u001b[0;34m)\u001b[0m\u001b[0;34m\u001b[0m\u001b[0;34m\u001b[0m\u001b[0m\n\u001b[0m",
            "\u001b[0;32m/usr/local/lib/python3.7/dist-packages/pandas/io/sql.py\u001b[0m in \u001b[0;36mread_sql_query\u001b[0;34m(sql, con, index_col, coerce_float, params, parse_dates, chunksize)\u001b[0m\n\u001b[1;32m    381\u001b[0m         \u001b[0mcoerce_float\u001b[0m\u001b[0;34m=\u001b[0m\u001b[0mcoerce_float\u001b[0m\u001b[0;34m,\u001b[0m\u001b[0;34m\u001b[0m\u001b[0;34m\u001b[0m\u001b[0m\n\u001b[1;32m    382\u001b[0m         \u001b[0mparse_dates\u001b[0m\u001b[0;34m=\u001b[0m\u001b[0mparse_dates\u001b[0m\u001b[0;34m,\u001b[0m\u001b[0;34m\u001b[0m\u001b[0;34m\u001b[0m\u001b[0m\n\u001b[0;32m--> 383\u001b[0;31m         \u001b[0mchunksize\u001b[0m\u001b[0;34m=\u001b[0m\u001b[0mchunksize\u001b[0m\u001b[0;34m,\u001b[0m\u001b[0;34m\u001b[0m\u001b[0;34m\u001b[0m\u001b[0m\n\u001b[0m\u001b[1;32m    384\u001b[0m     )\n\u001b[1;32m    385\u001b[0m \u001b[0;34m\u001b[0m\u001b[0m\n",
            "\u001b[0;32m/usr/local/lib/python3.7/dist-packages/pandas/io/sql.py\u001b[0m in \u001b[0;36mread_query\u001b[0;34m(self, sql, index_col, coerce_float, params, parse_dates, chunksize)\u001b[0m\n\u001b[1;32m   1725\u001b[0m \u001b[0;34m\u001b[0m\u001b[0m\n\u001b[1;32m   1726\u001b[0m         \u001b[0margs\u001b[0m \u001b[0;34m=\u001b[0m \u001b[0m_convert_params\u001b[0m\u001b[0;34m(\u001b[0m\u001b[0msql\u001b[0m\u001b[0;34m,\u001b[0m \u001b[0mparams\u001b[0m\u001b[0;34m)\u001b[0m\u001b[0;34m\u001b[0m\u001b[0;34m\u001b[0m\u001b[0m\n\u001b[0;32m-> 1727\u001b[0;31m         \u001b[0mcursor\u001b[0m \u001b[0;34m=\u001b[0m \u001b[0mself\u001b[0m\u001b[0;34m.\u001b[0m\u001b[0mexecute\u001b[0m\u001b[0;34m(\u001b[0m\u001b[0;34m*\u001b[0m\u001b[0margs\u001b[0m\u001b[0;34m)\u001b[0m\u001b[0;34m\u001b[0m\u001b[0;34m\u001b[0m\u001b[0m\n\u001b[0m\u001b[1;32m   1728\u001b[0m         \u001b[0mcolumns\u001b[0m \u001b[0;34m=\u001b[0m \u001b[0;34m[\u001b[0m\u001b[0mcol_desc\u001b[0m\u001b[0;34m[\u001b[0m\u001b[0;36m0\u001b[0m\u001b[0;34m]\u001b[0m \u001b[0;32mfor\u001b[0m \u001b[0mcol_desc\u001b[0m \u001b[0;32min\u001b[0m \u001b[0mcursor\u001b[0m\u001b[0;34m.\u001b[0m\u001b[0mdescription\u001b[0m\u001b[0;34m]\u001b[0m\u001b[0;34m\u001b[0m\u001b[0;34m\u001b[0m\u001b[0m\n\u001b[1;32m   1729\u001b[0m \u001b[0;34m\u001b[0m\u001b[0m\n",
            "\u001b[0;32m/usr/local/lib/python3.7/dist-packages/pandas/io/sql.py\u001b[0m in \u001b[0;36mexecute\u001b[0;34m(self, *args, **kwargs)\u001b[0m\n\u001b[1;32m   1691\u001b[0m \u001b[0;34m\u001b[0m\u001b[0m\n\u001b[1;32m   1692\u001b[0m             \u001b[0mex\u001b[0m \u001b[0;34m=\u001b[0m \u001b[0mDatabaseError\u001b[0m\u001b[0;34m(\u001b[0m\u001b[0;34mf\"Execution failed on sql '{args[0]}': {exc}\"\u001b[0m\u001b[0;34m)\u001b[0m\u001b[0;34m\u001b[0m\u001b[0;34m\u001b[0m\u001b[0m\n\u001b[0;32m-> 1693\u001b[0;31m             \u001b[0;32mraise\u001b[0m \u001b[0mex\u001b[0m \u001b[0;32mfrom\u001b[0m \u001b[0mexc\u001b[0m\u001b[0;34m\u001b[0m\u001b[0;34m\u001b[0m\u001b[0m\n\u001b[0m\u001b[1;32m   1694\u001b[0m \u001b[0;34m\u001b[0m\u001b[0m\n\u001b[1;32m   1695\u001b[0m     \u001b[0;34m@\u001b[0m\u001b[0mstaticmethod\u001b[0m\u001b[0;34m\u001b[0m\u001b[0;34m\u001b[0m\u001b[0m\n",
            "\u001b[0;31mDatabaseError\u001b[0m: Execution failed on sql ' select employee_id, department_id, employee_name, salary from (Select b.employee_id, b.department_id, b.salary, c.employee_name,\n rank () over (partition by b.department_id order by b.salary desc, b.employee_id) as s_rank\nfrom salary b left join employee_info c on b.employee_id = c.employee_id) as A where s_rank = 1;\n': current transaction is aborted, commands ignored until end of transaction block\n"
          ]
        }
      ]
    },
    {
      "cell_type": "markdown",
      "metadata": {
        "id": "v8Ao2Bix59Ye"
      },
      "source": [
        "## Question 5\n",
        "Show employeeid, employeename, salary, salary %"
      ]
    },
    {
      "cell_type": "code",
      "metadata": {
        "id": "CdUIApOrgZHd"
      },
      "source": [
        "## get employeeid, employeename, salary, salary %\n",
        "query2 = \"\"\" Select employee_id, employee_name, salary,\n",
        "100.0*coalesce(salary,0)/sum(coalesce(salary,0)) over () as salary_percentage from (\n",
        "Select s.employee_id, e.employee_name, s.salary\n",
        "from salary s left join employee_info e on s.employee_id = e.employee_id) as A ;\n",
        "\"\"\"\n",
        "pd.read_sql_query(query2, connection)"
      ],
      "execution_count": null,
      "outputs": []
    },
    {
      "cell_type": "markdown",
      "metadata": {
        "id": "9a6T4BFc6DsE"
      },
      "source": [
        "## Question 6\n",
        "Show employeeid, departmentid, salary where salary > 500.0"
      ]
    },
    {
      "cell_type": "code",
      "metadata": {
        "id": "2UvjeponglbJ"
      },
      "source": [
        "## get employeeid, departmentid, salary where salary > 500.0\n",
        "query3 = \"\"\" Select employee_id, department_id, salary from salary where salary > 500.0;\n",
        "\"\"\"\n",
        "pd.read_sql_query(query3,connection)"
      ],
      "execution_count": null,
      "outputs": []
    },
    {
      "cell_type": "markdown",
      "metadata": {
        "id": "OaYsF2BU6IgZ"
      },
      "source": [
        "## Question 6\n",
        "create new column in salary table having age of employee with (1,30), (2,30), (3,31), (4,31), (5,32) , (6,33), (7,32), (8,33), (9,31)"
      ]
    },
    {
      "cell_type": "code",
      "metadata": {
        "id": "SeFwrJyHAgfS"
      },
      "source": [
        "Query4 = \"\"\" Begin transaction;\n",
        "Alter table salary add age float(32) default 1.0 ;\n",
        "Update salary set age = 30 where employee_id = '1';\n",
        "Update salary set age = 30 where employee_id = '2';\n",
        "Update salary set age = 31 where employee_id = '3';\n",
        "Update salary set age = 31 where employee_id = '4';\n",
        "Update salary set age = 32 where employee_id = '5';\n",
        "Update salary set age = 33 where employee_id = '6';\n",
        "Update salary set age = 32 where employee_id = '7';\n",
        "Update salary set age = 33 where employee_id = '8';\n",
        "Update salary set age = 31 where employee_id = '9';\n",
        "END transaction;\n",
        "\"\"\"\n",
        "with connection.cursor() as cur:\n",
        "  cur.execute(Query4)\n"
      ],
      "execution_count": null,
      "outputs": []
    },
    {
      "cell_type": "markdown",
      "metadata": {
        "id": "GTBYp5O-6NUW"
      },
      "source": [
        "## Question 7\n",
        "Show age, average salary for each age"
      ]
    },
    {
      "cell_type": "code",
      "metadata": {
        "id": "ob0TayADKzFw"
      },
      "source": [
        "query = \"\"\" Select age, avg(salary) as avg_salary_for_each_age from salary group by age;\n",
        "\"\"\"\n",
        "pd.read_sql_query(query, connection)"
      ],
      "execution_count": null,
      "outputs": []
    },
    {
      "cell_type": "markdown",
      "metadata": {
        "id": "CPGmeMqt6Rld"
      },
      "source": [
        "## Question 8\n",
        "Show department id, age, average salary for each age and department"
      ]
    },
    {
      "cell_type": "code",
      "metadata": {
        "id": "RxowjAe2LQLi"
      },
      "source": [
        "query = \"\"\" Select department_id, age, avg(salary) as avg_salary_for_each_age from salary group by 1,2;\n",
        "\"\"\"\n",
        "pd.read_sql_query(query, connection)"
      ],
      "execution_count": null,
      "outputs": []
    },
    {
      "cell_type": "markdown",
      "metadata": {
        "id": "Go4FJPa06X80"
      },
      "source": [
        "## Question 9\n",
        "Show department id, age, average salary for each age and department"
      ]
    },
    {
      "cell_type": "markdown",
      "metadata": {
        "id": "tGdmbDWm6fP4"
      },
      "source": [
        "## Question 10\n",
        "update employee id 1 salary to 1000.0 from 100.0"
      ]
    },
    {
      "cell_type": "code",
      "metadata": {
        "id": "gVx86jtTLYRs"
      },
      "source": [
        "query = \"\"\" Update salary set salary = 100.0 where employee_id = '1';\n",
        "\"\"\"\n",
        "with connection.cursor() as cur:\n",
        "  cur.execute(query)"
      ],
      "execution_count": null,
      "outputs": []
    },
    {
      "cell_type": "code",
      "metadata": {
        "id": "ZPkEoJ1Mh5Ii"
      },
      "source": [
        "query = \"\"\"Select * from salary;\n",
        "\"\"\"\n",
        "pd.read_sql_query(query, connection)"
      ],
      "execution_count": null,
      "outputs": []
    },
    {
      "cell_type": "markdown",
      "metadata": {
        "id": "nS7_6in76jKH"
      },
      "source": [
        "## Question 11\n",
        "show table with employee id, employee name, city where salary > 500.0"
      ]
    },
    {
      "cell_type": "code",
      "metadata": {
        "id": "T1m-zv8KLtNP"
      },
      "source": [
        "query = \"\"\" Select s.employee_id, e.employee_name, e.city, s.salary\n",
        "from salary s left join employee_info e on s.employee_id = e.employee_id where s.salary > 500.0;\n",
        "\"\"\"\n",
        "pd.read_sql_query(query, connection)"
      ],
      "execution_count": null,
      "outputs": []
    },
    {
      "cell_type": "markdown",
      "metadata": {
        "id": "g_D7UF783wxM"
      },
      "source": [
        "## Problem Statement 2"
      ]
    },
    {
      "cell_type": "code",
      "metadata": {
        "id": "oN3lTk3m3yxZ"
      },
      "source": [
        "sql_query = \"\"\"\n",
        "create table infection(\n",
        "  patient_id varchar(10),\n",
        "  diagnosis_date date,\n",
        "  infection_flag int\n",
        ");\n",
        "\"\"\"\n",
        "with connection.cursor() as cur:\n",
        "  cur.execute(sql_query)\n",
        "insert_query = \"\"\"\n",
        "insert into infection(patient_id, diagnosis_date, infection_flag) \n",
        "values \n",
        "('a1','2020-07-01',0),\n",
        "('a1','2020-07-02',0),\n",
        "('a1','2020-07-03',1),\n",
        "('a1','2020-07-04',0),\n",
        "('a1','2020-07-05',0),\n",
        "('b1','2020-07-04',1),\n",
        "('b1','2020-07-03',1),\n",
        "('b1','2020-07-02',0),\n",
        "('c1','2020-07-01',1),\n",
        "('c1','2020-07-02',0),\n",
        "('c1','2020-07-04',1),\n",
        "('c1','2020-07-07',0),\n",
        "('c1','2020-07-03',1),\n",
        "('c1','2020-07-09',0),\n",
        "('c1','2020-07-14',1),\n",
        "('c1','2020-07-15',0),\n",
        "('c1','2020-07-16',0),\n",
        "('c1','2020-07-17',1),\n",
        "('c1','2020-07-18',0),\n",
        "('c1','2020-07-19',1),\n",
        "('c1','2020-07-11',0),\n",
        "('d1','2020-07-21',0),\n",
        "('d1','2020-07-11',1),\n",
        "('d1','2020-07-22',0),\n",
        "('d1','2020-07-12',0),\n",
        "('d1','2020-07-14',1),\n",
        "('d1','2020-07-16',0),\n",
        "('d1','2020-07-18',1),\n",
        "('d1','2020-07-23',0),\n",
        "('d1','2020-07-24',1),\n",
        "('d1','2020-07-25',0),\n",
        "('d1','2020-07-26',1),\n",
        "('d1','2020-07-27',0),\n",
        "('d1','2020-07-28',1),\n",
        "('d1','2020-07-30',0),\n",
        "('d1','2020-07-31',1),\n",
        "('e1','2020-07-20',0),\n",
        "('e1','2020-07-21',1),\n",
        "('e1','2020-07-22',0),\n",
        "('e1','2020-07-23',1)\n",
        ";\n",
        "\n",
        "\"\"\"\n",
        "with connection.cursor() as cur:\n",
        "  cur.execute(insert_query)"
      ],
      "execution_count": null,
      "outputs": []
    },
    {
      "cell_type": "markdown",
      "metadata": {
        "id": "xDvG72Qr6pz9"
      },
      "source": [
        "## Question 1\n",
        "Sort table on diagnosis_date ascending and create new column last_5_days_infection_flag\n",
        "\n",
        "Logic - last_5_days_infection_flag will show if a patient had infection in last 5 days. "
      ]
    },
    {
      "cell_type": "code",
      "metadata": {
        "id": "7Wwsmmug4J0I"
      },
      "source": [
        "#query = \"\"\" SELECT  i.diagnosis_date,\n",
        "\t#\ti.infection_flag,\n",
        "#\t\tsum(i2.infection_flag)\n",
        "#\t\tfrom Infection i \n",
        "#\tcross apply\n",
        "#\t\t( SELECT * from Infection i1\n",
        "#\t\t\twhere i1.diagnosis_date > dateadd(day, -5, i.diagnosis_date)\n",
        "#\t\t\tand i1.diagnosis_date < dateadd(day,1,i.diagnosis_date)) i2\n",
        "#\tgroup by i.diagnosis_date,\n",
        "#\t\ti.infection_flag order by i.diagnosis_date;\n",
        "#\"\"\"\n",
        "#pd.read_sql_query(query, connection)\n"
      ],
      "execution_count": null,
      "outputs": []
    },
    {
      "cell_type": "markdown",
      "metadata": {
        "id": "qfWaNdeM8hpt"
      },
      "source": [
        "# Question 2\n",
        "Do in pandas\n",
        "\n",
        "Sort table on diagnosis_date ascending and create new column last_5_days_infection_flag\n",
        "\n",
        "Logic - last_5_days_infection_flag will show if a patient had infection in last 5 days. \n"
      ]
    },
    {
      "cell_type": "code",
      "metadata": {
        "id": "2uI5g8ES8ipO"
      },
      "source": [
        ""
      ],
      "execution_count": null,
      "outputs": []
    },
    {
      "cell_type": "markdown",
      "metadata": {
        "id": "JqmbEALYj9o2"
      },
      "source": [
        "# Problem Statement 3"
      ]
    },
    {
      "cell_type": "code",
      "metadata": {
        "id": "KTEGm9uBkfEw"
      },
      "source": [
        "Sql_query = \"\"\"\n",
        "CREATE TABLE Warehouses (\n",
        "   Code INTEGER NOT NULL,\n",
        "   Location VARCHAR(255) NOT NULL ,\n",
        "   Capacity INTEGER NOT NULL,\n",
        "   PRIMARY KEY (Code)\n",
        " );\n",
        "CREATE TABLE Boxes (\n",
        "    Code CHAR(4) NOT NULL,\n",
        "    Contents VARCHAR(255) NOT NULL ,\n",
        "    Value REAL NOT NULL ,\n",
        "    Warehouse INTEGER NOT NULL,\n",
        "    PRIMARY KEY (Code),\n",
        "    FOREIGN KEY (Warehouse) REFERENCES Warehouses(Code)\n",
        " ) ;\n",
        "\"\"\"\n",
        "with connection.cursor() as cur:\n",
        "  cur.execute(sql_query)\n",
        "insert_query = \"\"\"INSERT INTO Warehouses(Code,Location,Capacity)\n",
        "                  values\n",
        "                  (1,'Chicago',3),\n",
        "                  (2,'Chicago',4),\n",
        "                  (3,'New York',7),\n",
        "                  (4,'Los Angeles',2),\n",
        "                  (5,'San Francisco',8)\n",
        "                  ;\n",
        "\n",
        "                  INSERT INTO Boxes(Code,Contents,Value,Warehouse) \n",
        "                  VALUES\n",
        "                  ('0MN7','Rocks',180,3),\n",
        "                  ('4H8P','Rocks',250,1),\n",
        "                  ('4RT3','Scissors',190,4),\n",
        "                  ('7G3H','Rocks',200,1),\n",
        "                  ('8JN6','Papers',75,1),\n",
        "                  ('8Y6U','Papers',50,3),\n",
        "                  ('9J6F','Papers',175,2),\n",
        "                  ('LL08','Rocks',140,4),\n",
        "                  ('P0H6','Scissors',125,1),\n",
        "                  ('P2T6','Scissors',150,2),\n",
        "                  ('TU55','Papers',90,5)\n",
        "                  ;\n",
        "\"\"\""
      ],
      "execution_count": null,
      "outputs": []
    },
    {
      "cell_type": "markdown",
      "metadata": {
        "id": "9eQfGe3FmJMm"
      },
      "source": [
        "# Question 1\n",
        "Select the code of each box, along with the name of the city the box is located in."
      ]
    },
    {
      "cell_type": "code",
      "metadata": {
        "id": "msuTsdGKmdQA"
      },
      "source": [
        "query= \"\"\" SELECT Boxes.Code, Location\n",
        "           FROM Warehouses \n",
        "           INNER JOIN Boxes\n",
        "           ON Warehouses.Code = Boxes.Warehouse;\n",
        "\"\"\"\n",
        "pd.read_sql_query = (query, connection)"
      ],
      "execution_count": null,
      "outputs": []
    }
  ]
}